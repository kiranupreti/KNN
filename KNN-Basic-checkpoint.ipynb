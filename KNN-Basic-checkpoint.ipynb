{
 "cells": [
  {
   "cell_type": "markdown",
   "metadata": {},
   "source": [
    "# KNN Classification"
   ]
  },
  {
   "cell_type": "code",
   "execution_count": null,
   "metadata": {},
   "outputs": [],
   "source": []
  },
  {
   "cell_type": "code",
   "execution_count": 35,
   "metadata": {},
   "outputs": [
    {
     "name": "stdout",
     "output_type": "stream",
     "text": [
      "5.196152422706632\n"
     ]
    }
   ],
   "source": [
    "import math \n",
    "\n",
    "a = [1, 2, 3]\n",
    "b = [4, 5, 6]\n",
    "\n",
    "# Scalar\n",
    "\n",
    "sum = 0\n",
    "for i in range(len(a)):\n",
    "    sum += (a[i] - b[i]) ** 2\n",
    "dist = sum ** 0.5\n",
    "print(dist)"
   ]
  },
  {
   "cell_type": "code",
   "execution_count": 36,
   "metadata": {},
   "outputs": [
    {
     "data": {
      "text/plain": [
       "5.196152422706632"
      ]
     },
     "execution_count": 36,
     "metadata": {},
     "output_type": "execute_result"
    }
   ],
   "source": [
    "import numpy as np\n",
    "\n",
    "# Vector \n",
    "\n",
    "a = [1, 2, 3]\n",
    "b = [4, 5, 6]\n",
    "\n",
    "a = np.array(a)\n",
    "b = np.array(b)\n",
    "dist = (np.sum((b-a)**2))**0.5\n",
    "dist"
   ]
  },
  {
   "cell_type": "code",
   "execution_count": null,
   "metadata": {},
   "outputs": [],
   "source": []
  },
  {
   "cell_type": "code",
   "execution_count": null,
   "metadata": {},
   "outputs": [],
   "source": []
  },
  {
   "cell_type": "markdown",
   "metadata": {},
   "source": [
    "# KNN"
   ]
  },
  {
   "cell_type": "code",
   "execution_count": 179,
   "metadata": {},
   "outputs": [],
   "source": [
    "import numpy as np\n",
    "from matplotlib import pyplot as plt\n",
    "%matplotlib inline"
   ]
  },
  {
   "cell_type": "code",
   "execution_count": null,
   "metadata": {},
   "outputs": [],
   "source": []
  },
  {
   "cell_type": "code",
   "execution_count": 180,
   "metadata": {},
   "outputs": [],
   "source": [
    "mean1 = np.array([1, 0])\n",
    "cov1 = np.array([[1, 0.1], [0.1, 1.2]])\n",
    "dist1 = np.random.multivariate_normal(mean1, cov1, 500)\n",
    "\n",
    "mean2 = np.array([4, 5])\n",
    "cov2 = np.array([[1, 0.1], [0.1, 1.2]])\n",
    "dist2 = np.random.multivariate_normal(mean2, cov2, 500)"
   ]
  },
  {
   "cell_type": "code",
   "execution_count": 181,
   "metadata": {},
   "outputs": [
    {
     "data": {
      "image/png": "[encoded data removed]",
      "text/plain": [
       "<Figure size 432x288 with 1 Axes>"
      ]
     },
     "metadata": {
      "needs_background": "light"
     },
     "output_type": "display_data"
    }
   ],
   "source": [
    "plt.figure(0)\n",
    "plt.xlim(-5, 10)\n",
    "plt.ylim(-5, 10)\n",
    "plt.scatter(dist1[:, 0], dist1[:, 1])\n",
    "plt.scatter(dist2[:, 0], dist2[:, 1])\n",
    "plt.show()"
   ]
  },
  {
   "cell_type": "code",
   "execution_count": 182,
   "metadata": {},
   "outputs": [
    {
     "name": "stdout",
     "output_type": "stream",
     "text": [
      "(1000, 3)\n"
     ]
    },
    {
     "data": {
      "text/plain": [
       "array([2.49489461, 2.44405146, 0.5       ])"
      ]
     },
     "execution_count": 182,
     "metadata": {},
     "output_type": "execute_result"
    }
   ],
   "source": [
    "data = np.zeros((1000, 3))\n",
    "\n",
    "data[:500, :2] = dist1\n",
    "data[500:, :2] = dist2\n",
    "data[500:, -1] = 1.0\n",
    "\n",
    "print(data.shape)\n",
    "data.mean(axis=0)"
   ]
  },
  {
   "cell_type": "code",
   "execution_count": 183,
   "metadata": {},
   "outputs": [
    {
     "name": "stdout",
     "output_type": "stream",
     "text": [
      "[[ 2.73615554  2.41229477  0.        ]\n",
      " [ 0.84903201  0.81392208  0.        ]\n",
      " [ 4.6957905   5.08172428  1.        ]\n",
      " [ 2.74562084  3.77685249  1.        ]\n",
      " [ 1.65691494 -1.1073435   0.        ]\n",
      " [ 3.87555865  4.79443506  1.        ]\n",
      " [ 0.59495085 -1.67684086  0.        ]\n",
      " [ 4.95699073  5.03088261  1.        ]\n",
      " [ 1.03077414 -0.83631292  0.        ]\n",
      " [ 0.31664835 -0.38133032  0.        ]]\n"
     ]
    }
   ],
   "source": [
    "np.random.shuffle(data)\n",
    "print(data[:10])"
   ]
  },
  {
   "cell_type": "code",
   "execution_count": 184,
   "metadata": {},
   "outputs": [],
   "source": [
    "def distance(a, b):\n",
    "    dist = (np.sum((b-a)**2))**0.5\n",
    "    return dist"
   ]
  },
  {
   "cell_type": "code",
   "execution_count": 185,
   "metadata": {},
   "outputs": [],
   "source": [
    "def knn(x_train, y_train, test_point, k=7):\n",
    "    vals = []\n",
    "    \n",
    "    for i in range(x_train.shape[0]):\n",
    "        d = distance(x_train[i], test_point)\n",
    "        vals.append([d, y_train[i]])\n",
    "        \n",
    "    sorted_labels = sorted(vals, key=lambda r: r[0])\n",
    "    neighbors = np.asarray(sorted_labels)[:k, -1]\n",
    "#     print(neighbors)\n",
    "    \n",
    "    freq = np.unique(neighbors, return_counts=True)\n",
    "    \n",
    "    index = freq[1].argmax()\n",
    "    return freq[0][index]"
   ]
  },
  {
   "cell_type": "code",
   "execution_count": 186,
   "metadata": {},
   "outputs": [
    {
     "name": "stdout",
     "output_type": "stream",
     "text": [
      "1.0\n"
     ]
    }
   ],
   "source": [
    "x_train = data[:, :2]\n",
    "y_train = data[:, -1]\n",
    "test_point = np.array([2, 3])\n",
    "\n",
    "print(knn(x_train, y_train, test_point))"
   ]
  },
  {
   "cell_type": "code",
   "execution_count": null,
   "metadata": {},
   "outputs": [],
   "source": []
  },
  {
   "cell_type": "code",
   "execution_count": 187,
   "metadata": {},
   "outputs": [
    {
     "name": "stdout",
     "output_type": "stream",
     "text": [
      "(750, 2) (750,)\n",
      "(250, 2) (250,)\n"
     ]
    }
   ],
   "source": [
    "np.random.shuffle(data)\n",
    "\n",
    "split = int(0.75 * data.shape[0])\n",
    "\n",
    "x_train = data[:split, :2]\n",
    "y_train = data[:split, -1]\n",
    "\n",
    "x_test = data[split:, :2]\n",
    "y_test = data[split:, -1]\n",
    "\n",
    "print(x_train.shape, y_train.shape)\n",
    "print(x_test.shape, y_test.shape)"
   ]
  },
  {
   "cell_type": "code",
   "execution_count": 188,
   "metadata": {},
   "outputs": [],
   "source": [
    "def acc(k):\n",
    "    \n",
    "    predictions = []\n",
    "    \n",
    "    for i in range(x_test.shape[0]):\n",
    "        test_point = x_test[i]\n",
    "        predicted_label = knn(x_train, y_train, test_point, k)\n",
    "        predictions.append(predicted_label)\n",
    "        \n",
    "    #print(y_test == preds)\n",
    "        \n",
    "    preds = np.asarray(predictions)\n",
    "    return 100 * (y_test == preds).sum() / preds.shape[0]\n",
    "    "
   ]
  },
  {
   "cell_type": "code",
   "execution_count": 189,
   "metadata": {},
   "outputs": [
    {
     "name": "stdout",
     "output_type": "stream",
     "text": [
      "For k=1 the accuracy is 98.8\n",
      "For k=2 the accuracy is 98.8\n",
      "For k=3 the accuracy is 99.2\n",
      "For k=4 the accuracy is 99.6\n",
      "For k=5 the accuracy is 99.6\n",
      "For k=6 the accuracy is 99.6\n",
      "For k=7 the accuracy is 99.6\n",
      "For k=8 the accuracy is 99.6\n",
      "For k=9 the accuracy is 99.6\n",
      "For k=10 the accuracy is 99.6\n",
      "For k=11 the accuracy is 99.6\n",
      "For k=12 the accuracy is 99.6\n",
      "For k=13 the accuracy is 99.6\n",
      "For k=14 the accuracy is 99.6\n",
      "For k=15 the accuracy is 99.6\n",
      "For k=16 the accuracy is 99.6\n",
      "For k=17 the accuracy is 99.6\n",
      "For k=18 the accuracy is 99.6\n",
      "For k=19 the accuracy is 99.6\n",
      "For k=20 the accuracy is 99.6\n",
      "For k=21 the accuracy is 99.6\n",
      "For k=22 the accuracy is 99.6\n",
      "For k=23 the accuracy is 99.6\n",
      "For k=24 the accuracy is 99.6\n",
      "For k=25 the accuracy is 99.6\n",
      "For k=26 the accuracy is 99.6\n",
      "For k=27 the accuracy is 99.6\n",
      "For k=28 the accuracy is 99.6\n",
      "For k=29 the accuracy is 99.6\n",
      "For k=30 the accuracy is 99.6\n",
      "For k=31 the accuracy is 99.6\n",
      "For k=32 the accuracy is 99.6\n",
      "For k=33 the accuracy is 99.6\n",
      "For k=34 the accuracy is 99.6\n",
      "For k=35 the accuracy is 99.6\n",
      "For k=36 the accuracy is 99.6\n",
      "For k=37 the accuracy is 99.6\n",
      "For k=38 the accuracy is 99.6\n",
      "For k=39 the accuracy is 99.6\n",
      "For k=40 the accuracy is 99.6\n",
      "For k=41 the accuracy is 99.6\n",
      "For k=42 the accuracy is 99.6\n",
      "For k=43 the accuracy is 99.6\n",
      "For k=44 the accuracy is 99.6\n",
      "For k=45 the accuracy is 99.6\n",
      "For k=46 the accuracy is 99.6\n",
      "For k=47 the accuracy is 99.6\n",
      "For k=48 the accuracy is 99.6\n",
      "For k=49 the accuracy is 99.6\n"
     ]
    }
   ],
   "source": [
    "for k in range(1, 50):\n",
    "    print(f'For k={k} the accuracy is {acc(k)}')"
   ]
  },
  {
   "cell_type": "code",
   "execution_count": null,
   "metadata": {},
   "outputs": [],
   "source": []
  },
  {
   "cell_type": "code",
   "execution_count": null,
   "metadata": {},
   "outputs": [],
   "source": []
  },
  {
   "cell_type": "code",
   "execution_count": null,
   "metadata": {},
   "outputs": [],
   "source": [
    "#      ! pip3 install scikit-learn"
   ]
  },
  {
   "cell_type": "code",
   "execution_count": 20,
   "metadata": {},
   "outputs": [],
   "source": [
    "import sklearn\n",
    "from sklearn.neighbors import KNeighborsClassifier"
   ]
  },
  {
   "cell_type": "code",
   "execution_count": 21,
   "metadata": {},
   "outputs": [
    {
     "name": "stdout",
     "output_type": "stream",
     "text": [
      "99.6\n"
     ]
    }
   ],
   "source": [
    "neigh = KNeighborsClassifier(n_neighbors=5)\n",
    "neigh.fit(x_train, y_train)\n",
    "print(100*neigh.score(x_test, y_test))"
   ]
  },
  {
   "cell_type": "code",
   "execution_count": null,
   "metadata": {},
   "outputs": [],
   "source": []
  },
  {
   "cell_type": "code",
   "execution_count": null,
   "metadata": {},
   "outputs": [],
   "source": []
  },
  {
   "cell_type": "code",
   "execution_count": null,
   "metadata": {},
   "outputs": [],
   "source": []
  },
  {
   "cell_type": "markdown",
   "metadata": {},
   "source": [
    "# knn"
   ]
  },
  {
   "cell_type": "code",
   "execution_count": 142,
   "metadata": {},
   "outputs": [],
   "source": [
    "import numpy as np"
   ]
  },
  {
   "cell_type": "code",
   "execution_count": 143,
   "metadata": {},
   "outputs": [
    {
     "name": "stdout",
     "output_type": "stream",
     "text": [
      "['e' 'f']\n"
     ]
    }
   ],
   "source": [
    "a=np.array([[1,'f'],[2,'e'],[3,'f'],[7,'e'],[0,'f'],[2,'f']])\n",
    "b=np.unique(a[:,-1])\n",
    "print(b)"
   ]
  },
  {
   "cell_type": "code",
   "execution_count": 144,
   "metadata": {},
   "outputs": [
    {
     "name": "stdout",
     "output_type": "stream",
     "text": [
      "(array(['e', 'f'], dtype='<U11'), array([2, 4], dtype=int64))\n"
     ]
    }
   ],
   "source": [
    "c=np.unique(a[:,-1],return_counts=True)\n",
    "print(c)"
   ]
  },
  {
   "cell_type": "code",
   "execution_count": 145,
   "metadata": {},
   "outputs": [
    {
     "name": "stdout",
     "output_type": "stream",
     "text": [
      "['e' 'f']\n",
      "\n",
      "[2 4]\n",
      "\n"
     ]
    }
   ],
   "source": [
    "print(c[0])\n",
    "print()\n",
    "\n",
    "print(c[1])\n",
    "print()"
   ]
  },
  {
   "cell_type": "code",
   "execution_count": 146,
   "metadata": {},
   "outputs": [
    {
     "name": "stdout",
     "output_type": "stream",
     "text": [
      "1\n"
     ]
    }
   ],
   "source": [
    "print(c[1].argmax())"
   ]
  },
  {
   "cell_type": "code",
   "execution_count": 147,
   "metadata": {},
   "outputs": [
    {
     "name": "stdout",
     "output_type": "stream",
     "text": [
      "f\n"
     ]
    }
   ],
   "source": [
    "d=c[1].argmax()\n",
    "print(c[0][d])"
   ]
  },
  {
   "cell_type": "code",
   "execution_count": 13,
   "metadata": {},
   "outputs": [
    {
     "name": "stdout",
     "output_type": "stream",
     "text": [
      "[False  True  True  True False False False  True]\n",
      "<class 'numpy.ndarray'>\n",
      "[0 1 1 0 1 1 0 0]\n"
     ]
    }
   ],
   "source": [
    "a=np.array([0,1,1,0,1,1,0,0])\n",
    "b=np.array([1,1,1,0,0,0,1,0])\n",
    "print(a==b)\n",
    "d=(a==b)\n",
    "print(type(d))\n",
    "print(a)"
   ]
  },
  {
   "cell_type": "code",
   "execution_count": 15,
   "metadata": {},
   "outputs": [
    {
     "name": "stdout",
     "output_type": "stream",
     "text": [
      "[False False False False False False False False]\n",
      "<class 'numpy.ndarray'>\n"
     ]
    }
   ],
   "source": [
    "print(a==b.mean(axis=0))\n",
    "print(type(a==b))"
   ]
  },
  {
   "cell_type": "code",
   "execution_count": 150,
   "metadata": {},
   "outputs": [
    {
     "name": "stdout",
     "output_type": "stream",
     "text": [
      "0.5\n"
     ]
    }
   ],
   "source": [
    "\n",
    "print((a==b).sum()/8)\n",
    "\n",
    "\n"
   ]
  },
  {
   "cell_type": "code",
   "execution_count": 151,
   "metadata": {},
   "outputs": [
    {
     "name": "stdout",
     "output_type": "stream",
     "text": [
      "0.5\n"
     ]
    }
   ],
   "source": [
    "print((a==b).mean())"
   ]
  },
  {
   "cell_type": "code",
   "execution_count": 152,
   "metadata": {},
   "outputs": [
    {
     "data": {
      "text/plain": [
       "array([1.33333333, 2.33333333, 2.33333333])"
      ]
     },
     "execution_count": 152,
     "metadata": {},
     "output_type": "execute_result"
    }
   ],
   "source": [
    "a=np.array([[1,2,3],[3,4,1],[0,1,3]])\n",
    "np.mean(a,axis=0)"
   ]
  },
  {
   "cell_type": "code",
   "execution_count": 153,
   "metadata": {},
   "outputs": [
    {
     "name": "stdout",
     "output_type": "stream",
     "text": [
      "(array([0, 1, 2, 3, 4]), array([6, 0, 1, 2, 4], dtype=int64), array([1, 2, 3, 3, 4, 1, 0, 1, 3], dtype=int64), array([1, 3, 1, 3, 1], dtype=int64))\n"
     ]
    }
   ],
   "source": [
    "c=np.unique(a,return_index=True,return_inverse=True,return_counts=True)\n",
    "print(c)"
   ]
  },
  {
   "cell_type": "code",
   "execution_count": 154,
   "metadata": {},
   "outputs": [
    {
     "data": {
      "text/plain": [
       "array([3, 4, 5])"
      ]
     },
     "execution_count": 154,
     "metadata": {},
     "output_type": "execute_result"
    }
   ],
   "source": [
    "a=np.array([3,4,5])\n",
    "a"
   ]
  },
  {
   "cell_type": "code",
   "execution_count": null,
   "metadata": {},
   "outputs": [],
   "source": [
    "\n",
    "\n"
   ]
  },
  {
   "cell_type": "code",
   "execution_count": 3,
   "metadata": {},
   "outputs": [],
   "source": [
    "import numpy as np\n",
    "from matplotlib import pyplot as plt\n",
    "%matplotlib inline"
   ]
  },
  {
   "cell_type": "code",
   "execution_count": 4,
   "metadata": {},
   "outputs": [],
   "source": [
    "mean1 = np.array([1, 0])\n",
    "cov1 = np.array([[1, 0.1], [0.1, 1.2]])\n",
    "dist1 = np.random.multivariate_normal(mean1, cov1, 10)\n",
    "\n",
    "mean2 = np.array([4, 5])\n",
    "cov2 = np.array([[1, 0.1], [0.1, 1.2]])\n",
    "dist2 = np.random.multivariate_normal(mean2, cov2, 10)"
   ]
  },
  {
   "cell_type": "code",
   "execution_count": 5,
   "metadata": {},
   "outputs": [
    {
     "data": {
      "image/png": "[encoded data removed]",
      "text/plain": [
       "<Figure size 432x288 with 1 Axes>"
      ]
     },
     "metadata": {
      "needs_background": "light"
     },
     "output_type": "display_data"
    }
   ],
   "source": [
    "plt.xlim(-5, 10)\n",
    "plt.ylim(-5, 10)\n",
    "plt.scatter(dist1[:, 0], dist1[:, 1])\n",
    "plt.scatter(dist2[:, 0], dist2[:, 1])\n",
    "plt.show()"
   ]
  },
  {
   "cell_type": "code",
   "execution_count": 6,
   "metadata": {},
   "outputs": [
    {
     "name": "stdout",
     "output_type": "stream",
     "text": [
      "(20, 3)\n"
     ]
    }
   ],
   "source": [
    "data = np.zeros((20, 3))\n",
    "\n",
    "data[:10, :2] = dist1\n",
    "data[10:, :2] = dist2\n",
    "data[:, -1] =[2,0,1,0,2,0,1,0,1,2,0,1,0,2,1,0,2,1,0,2]\n",
    "\n",
    "print(data.shape)"
   ]
  },
  {
   "cell_type": "code",
   "execution_count": 7,
   "metadata": {},
   "outputs": [
    {
     "name": "stdout",
     "output_type": "stream",
     "text": [
      "[[ 0.98917187  0.79588728  2.        ]\n",
      " [ 1.35442466  0.9042088   0.        ]\n",
      " [ 0.80949217 -3.1058995   1.        ]\n",
      " [-0.63498247  1.62897785  0.        ]\n",
      " [-0.01184641 -0.47839944  2.        ]\n",
      " [ 1.58250401 -0.73465541  0.        ]\n",
      " [ 2.48681494 -2.59961771  1.        ]\n",
      " [-0.69293733  1.23098298  0.        ]\n",
      " [ 1.88366503  1.22264688  1.        ]\n",
      " [ 2.50909072  1.46519382  2.        ]\n",
      " [ 3.41272716  6.20553617  0.        ]\n",
      " [ 4.3471901   4.85703306  1.        ]\n",
      " [ 5.08325789  6.21330399  0.        ]\n",
      " [ 4.95677156  5.0983752   2.        ]\n",
      " [ 5.19821417  4.96429557  1.        ]\n",
      " [ 2.89979971  4.86552749  0.        ]\n",
      " [ 4.43394411  5.52265826  2.        ]\n",
      " [ 3.97849496  4.93394946  1.        ]\n",
      " [ 4.57487677  5.35649476  0.        ]\n",
      " [ 4.67559014  5.57517841  2.        ]]\n"
     ]
    }
   ],
   "source": [
    "print(data)\n",
    "x_train=data[:15,:2]\n",
    "x_test=data[15:,:2]\n",
    "y_train=data[:15,-1]\n",
    "y_test=data[15:,-1]"
   ]
  },
  {
   "cell_type": "code",
   "execution_count": 8,
   "metadata": {},
   "outputs": [],
   "source": [
    "def distance(a, b):\n",
    "    dist = (np.sum((b-a)**2))**0.5\n",
    "    return dist"
   ]
  },
  {
   "cell_type": "code",
   "execution_count": 16,
   "metadata": {},
   "outputs": [],
   "source": [
    "def knn(x_train, y_train, test_point, k=4):\n",
    "    vals = []\n",
    "    \n",
    "    for i in range(x_train.shape[0]):\n",
    "        d = distance(x_train[i], test_point)\n",
    "        vals.append([d, y_train[i]])\n",
    "    \n",
    "    print('values are :',vals)\n",
    "    #print()\n",
    "    \n",
    "    sorted_labels = sorted(vals, key=lambda r: r[0])\n",
    "    print(\"sorted labels are\",sorted_labels)\n",
    "    #print()\n",
    "    \n",
    "    neighbors = np.asarray(sorted_labels)[:k, -1]\n",
    "    print(neighbors)\n",
    "    \n",
    "    freq = np.unique(neighbors, return_counts=True)\n",
    "    print('frequency is',freq)\n",
    "    #print()\n",
    "    \n",
    "    index = freq[1].argmax()\n",
    "    print('index is',index)\n",
    "    #print()\n",
    "    return freq[0][index]\n",
    "\n",
    "\n",
    "\n"
   ]
  },
  {
   "cell_type": "code",
   "execution_count": 17,
   "metadata": {},
   "outputs": [
    {
     "name": "stdout",
     "output_type": "stream",
     "text": [
      "values are : [[4.495828089371054, 2.0], [4.252085345917179, 0.0], [8.240936468076331, 1.0], [4.792696375593994, 0.0], [6.085658397902928, 2.0], [5.753026724459779, 0.0], [7.476559988565156, 1.0], [5.110545294778026, 0.0], [3.7819451058168023, 1.0], [3.422706906975145, 2.0], [1.4348232764367663, 0.0], [1.4474153226946131, 1.0], [2.5659288991500158, 0.0], [2.0701090024251076, 2.0], [2.300535627890355, 1.0]]\n",
      "sorted labels are [[1.4348232764367663, 0.0], [1.4474153226946131, 1.0], [2.0701090024251076, 2.0], [2.300535627890355, 1.0], [2.5659288991500158, 0.0], [3.422706906975145, 2.0], [3.7819451058168023, 1.0], [4.252085345917179, 0.0], [4.495828089371054, 2.0], [4.792696375593994, 0.0], [5.110545294778026, 0.0], [5.753026724459779, 0.0], [6.085658397902928, 2.0], [7.476559988565156, 1.0], [8.240936468076331, 1.0]]\n",
      "[0. 1. 2. 1.]\n",
      "frequency is (array([0., 1., 2.]), array([1, 2, 1], dtype=int64))\n",
      "index is 1\n",
      "values are : [[5.8488306350881, 2.0], [5.550992299232943, 0.0], [9.358881395928893, 1.0], [6.391773134192182, 0.0], [7.468450103345766, 2.0], [6.876386048995789, 0.0], [8.352405581908252, 1.0], [6.686059384048583, 0.0], [4.999402090006969, 1.0], [4.490888361352546, 2.0], [1.2284975752590788, 0.0], [0.6712549238075146, 1.0], [0.9479450893761705, 0.0], [0.6733235905474899, 2.0], [0.9465081144849925, 1.0]]\n",
      "sorted labels are [[0.6712549238075146, 1.0], [0.6733235905474899, 2.0], [0.9465081144849925, 1.0], [0.9479450893761705, 0.0], [1.2284975752590788, 0.0], [4.490888361352546, 2.0], [4.999402090006969, 1.0], [5.550992299232943, 0.0], [5.8488306350881, 2.0], [6.391773134192182, 0.0], [6.686059384048583, 0.0], [6.876386048995789, 0.0], [7.468450103345766, 2.0], [8.352405581908252, 1.0], [9.358881395928893, 1.0]]\n",
      "[1. 2. 1. 0.]\n",
      "frequency is (array([0., 1., 2.]), array([1, 2, 1], dtype=int64))\n",
      "index is 1\n",
      "values are : [[5.1048615263088495, 2.0], [4.808799718614668, 0.0], [8.641860334299041, 1.0], [5.675122136707459, 0.0], [6.724309993087653, 2.0], [6.154173693810357, 0.0], [7.679827057391103, 1.0], [5.961060341724049, 0.0], [4.261699103841664, 1.0], [3.767149387735207, 2.0], [1.3917707936194805, 0.0], [0.3766327715543854, 1.0], [1.690339945126196, 0.0], [0.9919984600249777, 2.0], [1.2200966529604331, 1.0]]\n",
      "sorted labels are [[0.3766327715543854, 1.0], [0.9919984600249777, 2.0], [1.2200966529604331, 1.0], [1.3917707936194805, 0.0], [1.690339945126196, 0.0], [3.767149387735207, 2.0], [4.261699103841664, 1.0], [4.808799718614668, 0.0], [5.1048615263088495, 2.0], [5.675122136707459, 0.0], [5.961060341724049, 0.0], [6.154173693810357, 0.0], [6.724309993087653, 2.0], [7.679827057391103, 1.0], [8.641860334299041, 1.0]]\n",
      "[1. 2. 1. 0.]\n",
      "frequency is (array([0., 1., 2.]), array([1, 2, 1], dtype=int64))\n",
      "index is 1\n",
      "values are : [[5.801415370986322, 2.0], [5.494921481694406, 0.0], [9.262301974793772, 1.0], [6.406014015609789, 0.0], [7.42186094622602, 2.0], [6.786486955188324, 0.0], [8.225553349024446, 1.0], [6.6910173278483756, 0.0], [4.932678675027509, 1.0], [4.405643541487213, 2.0], [1.439257799989521, 0.0], [0.5489109344916916, 1.0], [0.9962797832015968, 0.0], [0.4609439671989942, 2.0], [0.7364575463040766, 1.0]]\n",
      "sorted labels are [[0.4609439671989942, 2.0], [0.5489109344916916, 1.0], [0.7364575463040766, 1.0], [0.9962797832015968, 0.0], [1.439257799989521, 0.0], [4.405643541487213, 2.0], [4.932678675027509, 1.0], [5.494921481694406, 0.0], [5.801415370986322, 2.0], [6.406014015609789, 0.0], [6.6910173278483756, 0.0], [6.786486955188324, 0.0], [7.42186094622602, 2.0], [8.225553349024446, 1.0], [9.262301974793772, 1.0]]\n",
      "[2. 1. 1. 0.]\n",
      "frequency is (array([0., 1., 2.]), array([1, 2, 1], dtype=int64))\n",
      "index is 1\n",
      "values are : [[6.035834935299599, 2.0], [5.731325953027704, 0.0], [9.503043044313797, 1.0], [6.616243660629934, 0.0], [7.656230543017111, 2.0], [7.02717472305765, 0.0], [8.462743549362743, 1.0], [6.906020640356909, 0.0], [5.171013096111422, 1.0], [4.646040571504341, 2.0], [1.4114438728800307, 0.0], [0.7896703886074745, 1.0], [0.757229986596809, 0.0], [0.5535379714709826, 2.0], [0.8039363841065109, 1.0]]\n",
      "sorted labels are [[0.5535379714709826, 2.0], [0.757229986596809, 0.0], [0.7896703886074745, 1.0], [0.8039363841065109, 1.0], [1.4114438728800307, 0.0], [4.646040571504341, 2.0], [5.171013096111422, 1.0], [5.731325953027704, 0.0], [6.035834935299599, 2.0], [6.616243660629934, 0.0], [6.906020640356909, 0.0], [7.02717472305765, 0.0], [7.656230543017111, 2.0], [8.462743549362743, 1.0], [9.503043044313797, 1.0]]\n",
      "[2. 0. 1. 1.]\n",
      "frequency is (array([0., 1., 2.]), array([1, 2, 1], dtype=int64))\n",
      "index is 1\n",
      "predictions are [1. 1. 1. 1. 1.]\n",
      "accuracy is 20.0\n"
     ]
    }
   ],
   "source": [
    "pred=[]\n",
    "for i in x_test:\n",
    "          a=knn(x_train,y_train,i)\n",
    "    #print(a)\n",
    "          pred.append(a)\n",
    "pred=np.array(pred)\n",
    "print('predictions are',pred)\n",
    "accuracy=((pred==y_test).mean())*100\n",
    "print('accuracy is',accuracy)"
   ]
  },
  {
   "cell_type": "code",
   "execution_count": 11,
   "metadata": {},
   "outputs": [
    {
     "name": "stdout",
     "output_type": "stream",
     "text": [
      "predictions are [0. 1. 1. 2. 2.]\n",
      "60.0\n",
      "predictions are [0. 1. 1. 1. 0.]\n",
      "40.0\n",
      "predictions are [0. 1. 1. 1. 0.]\n",
      "40.0\n",
      "predictions are [1. 1. 1. 1. 1.]\n",
      "20.0\n",
      "predictions are [0. 0. 0. 0. 0.]\n",
      "40.0\n",
      "predictions are [0. 0. 0. 0. 0.]\n",
      "40.0\n"
     ]
    }
   ],
   "source": [
    "for k in range(1,7):\n",
    "        pred=[]\n",
    "        for i in x_test:\n",
    "             a=knn(x_train,y_train,i,k)\n",
    "    #print(a)\n",
    "             pred.append(a)\n",
    "        pred=np.array(pred)\n",
    "        print('predictions are',pred)\n",
    "        accuracy=((pred==y_test).mean())*100\n",
    "        print(accuracy)\n",
    "    "
   ]
  },
  {
   "cell_type": "code",
   "execution_count": 209,
   "metadata": {},
   "outputs": [
    {
     "name": "stdout",
     "output_type": "stream",
     "text": [
      "98.8\n",
      "98.8\n",
      "99.2\n"
     ]
    }
   ],
   "source": [
    "def acc(k):\n",
    "    pred=[]\n",
    "    for i in x_test:\n",
    "          a=knn(x_train,y_train,i,k)\n",
    "    #print(a)\n",
    "          pred.append(a)\n",
    "    pred=np.array(pred)\n",
    "    #print('predictions are',pred)\n",
    "    accuracy=((pred==y_test).mean())*100\n",
    "    return accuracy\n",
    "    \n",
    "    \n",
    "for k in range(1,4):\n",
    "    print(acc(k))"
   ]
  },
  {
   "cell_type": "code",
   "execution_count": 193,
   "metadata": {},
   "outputs": [
    {
     "name": "stdout",
     "output_type": "stream",
     "text": [
      "For k=1 the accuracy is 98.8\n",
      "For k=2 the accuracy is 98.8\n",
      "For k=3 the accuracy is 99.2\n",
      "For k=4 the accuracy is 99.6\n",
      "For k=5 the accuracy is 99.6\n",
      "For k=6 the accuracy is 99.6\n"
     ]
    }
   ],
   "source": [
    "def acc(k):\n",
    "    pred=[]\n",
    "    for i in x_test:\n",
    "          a=knn(x_train,y_train,i,k)\n",
    "    #print(a)\n",
    "          pred.append(a)\n",
    "    pred=np.array(pred)\n",
    "    #print('predictions are',pred)\n",
    "    accuracy=((pred==y_test).mean())*100\n",
    "    return accuracy\n",
    "    \n",
    "    \n",
    "for k in range(1, 7):\n",
    "    print(f'For k={k} the accuracy is {acc(k)}')"
   ]
  },
  {
   "cell_type": "code",
   "execution_count": 116,
   "metadata": {},
   "outputs": [],
   "source": []
  },
  {
   "cell_type": "code",
   "execution_count": 117,
   "metadata": {},
   "outputs": [
    {
     "ename": "ValueError",
     "evalue": "attempt to get argmax of an empty sequence",
     "output_type": "error",
     "traceback": [
      "\u001b[1;31m---------------------------------------------------------------------------\u001b[0m",
      "\u001b[1;31mValueError\u001b[0m                                Traceback (most recent call last)",
      "\u001b[1;32m<ipython-input-117-5760fb1dd182>\u001b[0m in \u001b[0;36m<module>\u001b[1;34m\u001b[0m\n\u001b[0;32m      1\u001b[0m \u001b[1;32mfor\u001b[0m \u001b[0mi\u001b[0m \u001b[1;32min\u001b[0m \u001b[0mrange\u001b[0m\u001b[1;33m(\u001b[0m\u001b[1;36m7\u001b[0m\u001b[1;33m)\u001b[0m\u001b[1;33m:\u001b[0m\u001b[1;33m\u001b[0m\u001b[1;33m\u001b[0m\u001b[0m\n\u001b[1;32m----> 2\u001b[1;33m     \u001b[0macc\u001b[0m\u001b[1;33m(\u001b[0m\u001b[0mi\u001b[0m\u001b[1;33m)\u001b[0m\u001b[1;33m\u001b[0m\u001b[1;33m\u001b[0m\u001b[0m\n\u001b[0m\u001b[0;32m      3\u001b[0m \u001b[1;33m\u001b[0m\u001b[0m\n",
      "\u001b[1;32m<ipython-input-116-c09e625acdb1>\u001b[0m in \u001b[0;36macc\u001b[1;34m(k)\u001b[0m\n\u001b[0;32m      2\u001b[0m     \u001b[0mpred\u001b[0m\u001b[1;33m=\u001b[0m\u001b[1;33m[\u001b[0m\u001b[1;33m]\u001b[0m\u001b[1;33m\u001b[0m\u001b[1;33m\u001b[0m\u001b[0m\n\u001b[0;32m      3\u001b[0m     \u001b[1;32mfor\u001b[0m \u001b[0mi\u001b[0m \u001b[1;32min\u001b[0m \u001b[0mx_test\u001b[0m\u001b[1;33m:\u001b[0m\u001b[1;33m\u001b[0m\u001b[1;33m\u001b[0m\u001b[0m\n\u001b[1;32m----> 4\u001b[1;33m              \u001b[0ma\u001b[0m\u001b[1;33m=\u001b[0m\u001b[0mknn\u001b[0m\u001b[1;33m(\u001b[0m\u001b[0mx_train\u001b[0m\u001b[1;33m,\u001b[0m\u001b[0my_train\u001b[0m\u001b[1;33m,\u001b[0m\u001b[0mi\u001b[0m\u001b[1;33m,\u001b[0m\u001b[0mk\u001b[0m\u001b[1;33m)\u001b[0m\u001b[1;33m\u001b[0m\u001b[1;33m\u001b[0m\u001b[0m\n\u001b[0m\u001b[0;32m      5\u001b[0m              \u001b[0mprint\u001b[0m\u001b[1;33m(\u001b[0m\u001b[0ma\u001b[0m\u001b[1;33m)\u001b[0m\u001b[1;33m\u001b[0m\u001b[1;33m\u001b[0m\u001b[0m\n\u001b[0;32m      6\u001b[0m     \u001b[0ma\u001b[0m\u001b[1;33m=\u001b[0m\u001b[0mnp\u001b[0m\u001b[1;33m.\u001b[0m\u001b[0marray\u001b[0m\u001b[1;33m(\u001b[0m\u001b[0ma\u001b[0m\u001b[1;33m)\u001b[0m\u001b[1;33m\u001b[0m\u001b[1;33m\u001b[0m\u001b[0m\n",
      "\u001b[1;32m<ipython-input-115-fed0d7c90079>\u001b[0m in \u001b[0;36mknn\u001b[1;34m(x_train, y_train, test_point, k)\u001b[0m\n\u001b[0;32m     20\u001b[0m     \u001b[1;31m#print()\u001b[0m\u001b[1;33m\u001b[0m\u001b[1;33m\u001b[0m\u001b[1;33m\u001b[0m\u001b[0m\n\u001b[0;32m     21\u001b[0m \u001b[1;33m\u001b[0m\u001b[0m\n\u001b[1;32m---> 22\u001b[1;33m     \u001b[0mindex\u001b[0m \u001b[1;33m=\u001b[0m \u001b[0mfreq\u001b[0m\u001b[1;33m[\u001b[0m\u001b[1;36m1\u001b[0m\u001b[1;33m]\u001b[0m\u001b[1;33m.\u001b[0m\u001b[0margmax\u001b[0m\u001b[1;33m(\u001b[0m\u001b[1;33m)\u001b[0m\u001b[1;33m\u001b[0m\u001b[1;33m\u001b[0m\u001b[0m\n\u001b[0m\u001b[0;32m     23\u001b[0m     \u001b[1;31m#print('index is',index)\u001b[0m\u001b[1;33m\u001b[0m\u001b[1;33m\u001b[0m\u001b[1;33m\u001b[0m\u001b[0m\n\u001b[0;32m     24\u001b[0m     \u001b[1;31m#print()\u001b[0m\u001b[1;33m\u001b[0m\u001b[1;33m\u001b[0m\u001b[1;33m\u001b[0m\u001b[0m\n",
      "\u001b[1;31mValueError\u001b[0m: attempt to get argmax of an empty sequence"
     ]
    }
   ],
   "source": [
    "for i in range(7):\n",
    "    acc(i)\n",
    "    "
   ]
  },
  {
   "cell_type": "code",
   "execution_count": 95,
   "metadata": {},
   "outputs": [
    {
     "name": "stdout",
     "output_type": "stream",
     "text": [
      "20.0\n"
     ]
    }
   ],
   "source": [
    "a=np.array(a)\n",
    "accuracy=((a==y_test).mean())*100\n",
    "print(accuracy)"
   ]
  },
  {
   "cell_type": "code",
   "execution_count": 79,
   "metadata": {},
   "outputs": [
    {
     "name": "stdout",
     "output_type": "stream",
     "text": [
      "[5.97553988 6.91946868]\n",
      "[2.28313719 4.94828431]\n",
      "[3.90501838 4.41459631]\n",
      "[3.2041484 3.164807 ]\n",
      "[4.29268151 5.58671451]\n"
     ]
    }
   ],
   "source": [
    "for i in x_test:\n",
    "    print(i)"
   ]
  },
  {
   "cell_type": "code",
   "execution_count": 89,
   "metadata": {},
   "outputs": [
    {
     "name": "stdout",
     "output_type": "stream",
     "text": [
      "0\n",
      "1\n",
      "2\n"
     ]
    }
   ],
   "source": [
    "def ci(i):\n",
    "    print(i)\n",
    "    return i+3\n",
    "    \n",
    "    \n",
    "    \n",
    "for i in range(3):\n",
    "    ci(i)"
   ]
  },
  {
   "cell_type": "code",
   "execution_count": 93,
   "metadata": {},
   "outputs": [
    {
     "name": "stdout",
     "output_type": "stream",
     "text": [
      "0\n",
      "1\n",
      "2\n"
     ]
    }
   ],
   "source": [
    "def ci(i):\n",
    "    return i\n",
    "    \n",
    "for i in range(3):\n",
    "    print(ci(i))"
   ]
  },
  {
   "cell_type": "code",
   "execution_count": 92,
   "metadata": {},
   "outputs": [
    {
     "name": "stdout",
     "output_type": "stream",
     "text": [
      "0\n",
      "3\n",
      "1\n",
      "4\n",
      "2\n",
      "5\n"
     ]
    }
   ],
   "source": [
    "def ci(i):\n",
    "    print(i)\n",
    "    return i+3\n",
    "    \n",
    "for i in range(3):\n",
    "    print(ci(i))"
   ]
  },
  {
   "cell_type": "code",
   "execution_count": 206,
   "metadata": {},
   "outputs": [
    {
     "name": "stdout",
     "output_type": "stream",
     "text": [
      "[0, 1, 2]\n",
      "[1, 2, 3]\n",
      "[2, 3, 4]\n",
      "[3, 4, 5]\n",
      "[4, 5, 6]\n",
      "[5, 6, 7]\n",
      "[6, 7, 8]\n"
     ]
    }
   ],
   "source": [
    "def ser(a,b=1):\n",
    "    return a+b\n",
    "\n",
    "for s in range(7):\n",
    "    c=[]\n",
    "    for i in range(3):\n",
    "        sum=ser(s,i)\n",
    "        c.append(sum)\n",
    "    print(c)"
   ]
  },
  {
   "cell_type": "code",
   "execution_count": null,
   "metadata": {},
   "outputs": [],
   "source": []
  },
  {
   "cell_type": "code",
   "execution_count": null,
   "metadata": {},
   "outputs": [],
   "source": []
  },
  {
   "cell_type": "code",
   "execution_count": null,
   "metadata": {},
   "outputs": [],
   "source": []
  },
  {
   "cell_type": "code",
   "execution_count": null,
   "metadata": {},
   "outputs": [],
   "source": []
  },
  {
   "cell_type": "code",
   "execution_count": null,
   "metadata": {},
   "outputs": [],
   "source": []
  },
  {
   "cell_type": "markdown",
   "metadata": {},
   "source": [
    "# k-means"
   ]
  },
  {
   "cell_type": "code",
   "execution_count": 45,
   "metadata": {},
   "outputs": [
    {
     "name": "stdout",
     "output_type": "stream",
     "text": [
      "[10]\n"
     ]
    }
   ],
   "source": [
    "\n",
    "centroid=np.array([[2,3],[0,1],[1,4]])\n",
    "X=np.array([[4,1],[2,0],[1,3],[2,1],[4,7],[0,1],[0,9],[1,8],[2,7]])\n",
    "for x in X:\n",
    "    for c in centroid:\n",
    "        d=[]\n",
    "        dis= np.dot(x-c,x-c)\n",
    "        d.append(dis)\n",
    "        \n",
    "print(d)\n",
    "        "
   ]
  },
  {
   "cell_type": "code",
   "execution_count": 46,
   "metadata": {},
   "outputs": [
    {
     "name": "stdout",
     "output_type": "stream",
     "text": [
      "[16, 40, 10]\n"
     ]
    }
   ],
   "source": [
    "\n",
    "centroid=np.array([[2,3],[0,1],[1,4]])\n",
    "X=np.array([[4,1],[2,0],[1,3],[2,1],[4,7],[0,1],[0,9],[1,8],[2,7]])\n",
    "for x in X:\n",
    "    d=[]\n",
    "    for c in centroid:\n",
    "        dis= np.dot(x-c,x-c)\n",
    "        d.append(dis)\n",
    "        \n",
    "print(d)\n",
    "        "
   ]
  },
  {
   "cell_type": "code",
   "execution_count": 19,
   "metadata": {},
   "outputs": [
    {
     "name": "stdout",
     "output_type": "stream",
     "text": [
      "[8, 16, 18, 9, 5, 17, 1, 5, 1, 4, 4, 10, 20, 52, 18, 8, 0, 10, 40, 64, 26, 26, 50, 16, 16, 40, 10]\n"
     ]
    }
   ],
   "source": [
    "\n",
    "centroid=np.array([[2,3],[0,1],[1,4]])\n",
    "X=np.array([[4,1],[2,0],[1,3],[2,1],[4,7],[0,1],[0,9],[1,8],[2,7]])\n",
    "d=[]\n",
    "for x in X:\n",
    "    for c in centroid:\n",
    "        dis= np.dot(x-c,x-c)\n",
    "        d.append(dis)\n",
    "        \n",
    "        \n",
    "print(d)\n",
    "        "
   ]
  },
  {
   "cell_type": "code",
   "execution_count": 20,
   "metadata": {},
   "outputs": [
    {
     "name": "stdout",
     "output_type": "stream",
     "text": [
      "[2]\n"
     ]
    }
   ],
   "source": [
    "for i in range(3):\n",
    "    d=[]\n",
    "    d.append(i)\n",
    "print(d)"
   ]
  },
  {
   "cell_type": "code",
   "execution_count": 176,
   "metadata": {},
   "outputs": [
    {
     "name": "stdout",
     "output_type": "stream",
     "text": [
      "(50, 2)\n",
      "[3.55967315 7.56442169]\n",
      "[ 4.69963193 13.38059042]\n",
      "[ 3.75045485 14.68470705]\n"
     ]
    },
    {
     "name": "stderr",
     "output_type": "stream",
     "text": [
      "C:\\Users\\KAILASH\\Anaconda3\\lib\\site-packages\\ipykernel_launcher.py:6: RuntimeWarning: covariance is not symmetric positive-semidefinite.\n",
      "  \n",
      "C:\\Users\\KAILASH\\Anaconda3\\lib\\site-packages\\ipykernel_launcher.py:8: RuntimeWarning: covariance is not symmetric positive-semidefinite.\n",
      "  \n",
      "C:\\Users\\KAILASH\\Anaconda3\\lib\\site-packages\\ipykernel_launcher.py:57: UserWarning: Matplotlib is currently using module://ipykernel.pylab.backend_inline, which is a non-GUI backend, so cannot show the figure.\n"
     ]
    },
    {
     "data": {
      "image/png": "[encoded data removed]",
      "text/plain": [
       "<Figure size 432x288 with 1 Axes>"
      ]
     },
     "metadata": {
      "needs_background": "light"
     },
     "output_type": "display_data"
    }
   ],
   "source": [
    "#X=np.array([[4,1],[2,0],[1,3],[2,1],[4,7],[0,1],[0,9],[1,8],[2,7]])\n",
    "m1, cov1 = [9, 8], [[1.5, 2],[1, 2]]\n",
    "m2, cov2 = [5, 13], [[2.5, -1.5],[-1.5, 1.5]]\n",
    "m3, cov3 = [3, 7], [[0.25, 0.5],[-0.1, 0.5]]\n",
    "\n",
    "data1 = np.random.multivariate_normal(m1, cov1, 20)\n",
    "data2 = np.random.multivariate_normal(m2, cov2, 18)\n",
    "data3 = np.random.multivariate_normal(m3, cov3, 12)\n",
    "\n",
    "X = np.vstack(( data1, np.vstack((data2, data3)) ))\n",
    "\n",
    "np.random.shuffle(X)\n",
    "\n",
    "print(X.shape)\n",
    "print(X[3,:])\n",
    "print(X[5,:])\n",
    "print(X[10,:])\n",
    "def kmeans(X,k=3,max_iters=4,show_animation=False):\n",
    "    centroid=np.array([[9.11001533, 8.69799196],[ 3.36102186, 13.98139362],[ 4.20673898, 13.48280149]])\n",
    "    print('chosen centroids are',centroid)\n",
    "    \n",
    "    for i in range(max_iters):\n",
    "        d=[]\n",
    "        for x in X:\n",
    "            a=[]\n",
    "            for c in centroid:\n",
    "                dis= np.dot(x-c,x-c)\n",
    "                a.append(dis)\n",
    "            b=np.argmin(a)\n",
    "            d.append(b)\n",
    "        #print(d)\n",
    "        c1=np.asarray(d)\n",
    "        for i in range(k):\n",
    "            centroid[i]=X[c1==i].mean(axis=0)\n",
    "            print('centroid',i,'is',centroid[i])\n",
    "        print(centroid)\n",
    "    \n",
    "        if show_animation:\n",
    "                show(X, c1, np.array(centroids))\n",
    "       \n",
    "    return np.array(centroid),c1\n",
    "\n",
    "    \n",
    "\n",
    "#print('the final centroid values are',kmeans(X))\n",
    "#centroid,c1=kmeans(X)\n",
    "\n",
    "import matplotlib.pyplot as plt\n",
    "#plt.scatter(X[:,0],X[:,1],c=c1)\n",
    "#plt.plot(centroid[:,0],centroid[:,1],'r*',markersize=20)\n",
    "#plt.show()\n",
    "import time\n",
    "\n",
    "fig = plt.figure()\n",
    "ax = fig.add_subplot(111)\n",
    "plt.ion()\n",
    "fig.show()\n",
    "fig.canvas.draw()\n",
    "\n",
    "def show(X, c1, centroid):   \n",
    "    print('*', end=' ')\n",
    "    ax.clear()\n",
    "\n",
    "    num_centroids = centroid.shape[0]\n",
    "    for i in range(num_centroids):\n",
    "        ax.plot(X[c1 == i, 0], X[c1 == i, 1], 'o')\n",
    "    \n",
    "    ax.plot(centroid[:,0],centroid[:,1],'*k',markersize=20)\n",
    "    \n",
    "    fig.canvas.draw()\n",
    "    time.sleep(0.5)\n"
   ]
  },
  {
   "cell_type": "code",
   "execution_count": 175,
   "metadata": {},
   "outputs": [
    {
     "name": "stdout",
     "output_type": "stream",
     "text": [
      "Look at the animation above.\n",
      "chosen centroids are [[ 9.11001533  8.69799196]\n",
      " [ 3.36102186 13.98139362]\n",
      " [ 4.20673898 13.48280149]]\n",
      "centroid 0 is [7.83198009 8.02959777]\n",
      "centroid 1 is [ 1.53653106 14.81487442]\n",
      "centroid 2 is [ 4.40315082 10.96276996]\n",
      "[[ 7.83198009  8.02959777]\n",
      " [ 1.53653106 14.81487442]\n",
      " [ 4.40315082 10.96276996]]\n",
      "* centroid 0 is [9.03809265 8.20574678]\n",
      "centroid 1 is [ 1.53653106 14.81487442]\n",
      "centroid 2 is [ 4.22702533 10.17394913]\n",
      "[[ 9.03809265  8.20574678]\n",
      " [ 1.53653106 14.81487442]\n",
      " [ 4.22702533 10.17394913]]\n",
      "* centroid 0 is [9.03809265 8.20574678]\n",
      "centroid 1 is [ 2.31626284 14.27574969]\n",
      "centroid 2 is [ 4.24053683 10.0576587 ]\n",
      "[[ 9.03809265  8.20574678]\n",
      " [ 2.31626284 14.27574969]\n",
      " [ 4.24053683 10.0576587 ]]\n",
      "* centroid 0 is [9.03809265 8.20574678]\n",
      "centroid 1 is [ 4.10824089 13.57637336]\n",
      "centroid 2 is [4.0114289  9.10695076]\n",
      "[[ 9.03809265  8.20574678]\n",
      " [ 4.10824089 13.57637336]\n",
      " [ 4.0114289   9.10695076]]\n",
      "* * Done\n",
      "[[ 9.03809265  8.20574678]\n",
      " [ 4.10824089 13.57637336]\n",
      " [ 4.0114289   9.10695076]]\n"
     ]
    }
   ],
   "source": [
    "print('Look at the animation above.')\n",
    "centroids, c1 = kmeans(X, 3, show_animation=True)\n",
    "\n",
    "show(X, c1, centroids)\n",
    "\n",
    "print('Done')\n",
    "print(centroids)"
   ]
  },
  {
   "cell_type": "code",
   "execution_count": 135,
   "metadata": {},
   "outputs": [
    {
     "name": "stdout",
     "output_type": "stream",
     "text": [
      "11\n",
      "12\n",
      "12\n"
     ]
    }
   ],
   "source": [
    "f=10\n",
    "for i in range(2):\n",
    "    f=f+1\n",
    "    print(f)\n",
    "print(f)"
   ]
  },
  {
   "cell_type": "code",
   "execution_count": 80,
   "metadata": {},
   "outputs": [
    {
     "name": "stdout",
     "output_type": "stream",
     "text": [
      "11\n",
      "12\n",
      "12\n",
      "10\n"
     ]
    }
   ],
   "source": [
    "f=10\n",
    "def k(f):\n",
    "    for i in range(2):\n",
    "        f=f+1\n",
    "        print(f)\n",
    "    print(f)\n",
    "    \n",
    "k(f)\n",
    "print(f)"
   ]
  },
  {
   "cell_type": "code",
   "execution_count": 91,
   "metadata": {},
   "outputs": [
    {
     "name": "stdout",
     "output_type": "stream",
     "text": [
      "11\n",
      "12\n",
      "14\n",
      "7\n"
     ]
    }
   ],
   "source": [
    "f=7\n",
    "def k(f):\n",
    "    f=10\n",
    "    for i in range(2):\n",
    "        f=f+1\n",
    "        print(f)\n",
    "    print(f+2)\n",
    "    return f\n",
    "k(f)\n",
    "print(f)"
   ]
  },
  {
   "cell_type": "code",
   "execution_count": 93,
   "metadata": {},
   "outputs": [
    {
     "name": "stdout",
     "output_type": "stream",
     "text": [
      "[5 6 8]\n",
      "<class 'numpy.ndarray'>\n",
      "[ 8  9 11]\n",
      "<class 'numpy.ndarray'>\n",
      "[11 12 14]\n",
      "<class 'numpy.ndarray'>\n",
      "[14 15 17]\n",
      "<class 'numpy.ndarray'>\n",
      "[14 15 17]\n",
      "[14 15 17]\n"
     ]
    }
   ],
   "source": [
    "f=np.array([2,3,5])\n",
    "\n",
    "def k():\n",
    "    for k in range(4):\n",
    "        for i in range(3):\n",
    "            f[i]=f[i]+3\n",
    "        print(f)\n",
    "        print(type(f))\n",
    "    return f\n",
    "print(k())\n",
    "print(f)"
   ]
  },
  {
   "cell_type": "code",
   "execution_count": 98,
   "metadata": {},
   "outputs": [
    {
     "name": "stdout",
     "output_type": "stream",
     "text": [
      "[5 6 8]\n",
      "<class 'numpy.ndarray'>\n",
      "[ 8  9 11]\n",
      "<class 'numpy.ndarray'>\n",
      "[11 12 14]\n",
      "<class 'numpy.ndarray'>\n",
      "[14 15 17]\n",
      "<class 'numpy.ndarray'>\n",
      "[14 15 17]\n",
      "[14 15 17]\n"
     ]
    }
   ],
   "source": [
    "def k():\n",
    "    f=np.array([2,3,5])\n",
    "    for k in range(4):\n",
    "        for i in range(3):\n",
    "            f[i]=f[i]+3\n",
    "        print(f)\n",
    "        print(type(f))\n",
    "    return f\n",
    "print(k())\n",
    "print(f)"
   ]
  },
  {
   "cell_type": "code",
   "execution_count": 97,
   "metadata": {},
   "outputs": [
    {
     "name": "stdout",
     "output_type": "stream",
     "text": [
      "[5 6 8]\n",
      "<class 'numpy.ndarray'>\n",
      "[5 6 8]\n",
      "<class 'numpy.ndarray'>\n",
      "[5 6 8]\n",
      "<class 'numpy.ndarray'>\n",
      "[5 6 8]\n",
      "<class 'numpy.ndarray'>\n",
      "[5 6 8]\n",
      "[14 15 17]\n"
     ]
    }
   ],
   "source": [
    "\n",
    "\n",
    "def k():\n",
    "    \n",
    "    for k in range(4):\n",
    "        f=np.array([2,3,5])\n",
    "        for i in range(3):\n",
    "            f[i]=f[i]+3\n",
    "        print(f)\n",
    "        print(type(f))\n",
    "    return f\n",
    "print(k())\n",
    "print(f)"
   ]
  },
  {
   "cell_type": "code",
   "execution_count": 163,
   "metadata": {},
   "outputs": [
    {
     "name": "stdout",
     "output_type": "stream",
     "text": [
      "[0, 0, 1, 0, 2, 1, 2, 2, 2]\n",
      "centroid 0 is [2 0]\n",
      "centroid 1 is [0 2]\n",
      "centroid 2 is [1 7]\n",
      "[[2 0]\n",
      " [0 2]\n",
      " [1 7]]\n",
      "[0, 0, 1, 0, 2, 1, 2, 2, 2]\n",
      "centroid 0 is [2 0]\n",
      "centroid 1 is [0 2]\n",
      "centroid 2 is [1 7]\n",
      "[[2 0]\n",
      " [0 2]\n",
      " [1 7]]\n",
      "[0, 0, 1, 0, 2, 1, 2, 2, 2]\n",
      "centroid 0 is [2 0]\n",
      "centroid 1 is [0 2]\n",
      "centroid 2 is [1 7]\n",
      "[[2 0]\n",
      " [0 2]\n",
      " [1 7]]\n",
      "[0, 0, 1, 0, 2, 1, 2, 2, 2]\n",
      "centroid 0 is [2 0]\n",
      "centroid 1 is [0 2]\n",
      "centroid 2 is [1 7]\n",
      "[[2 0]\n",
      " [0 2]\n",
      " [1 7]]\n",
      "the final centroid values are [[2 0]\n",
      " [0 2]\n",
      " [1 7]]\n"
     ]
    }
   ],
   "source": [
    "\n",
    "X=np.array([[4,1],[2,0],[1,3],[2,1],[4,7],[0,1],[0,9],[1,8],[2,7]])\n",
    "\n",
    "def kme(X):\n",
    "    centroid=np.array([[2,0],[0,1],[1,8]])\n",
    "    for j in range(4):\n",
    "        d=[]\n",
    "        for x in X:\n",
    "            a=[]\n",
    "            for c in centroid:\n",
    "                dis= np.dot(x-c,x-c)\n",
    "                a.append(dis)\n",
    "            b=np.argmin(a)\n",
    "            d.append(b)\n",
    "        print(d)\n",
    "        c1=np.array(d)\n",
    "        for i in range(3):\n",
    "            centroid[i]=X[c1==i].mean(axis=0)\n",
    "            print('centroid',i,'is',centroid[i])\n",
    "        print(centroid)\n",
    "    return centroid\n",
    "    \n",
    "print('the final centroid values are',kme(X))"
   ]
  },
  {
   "cell_type": "code",
   "execution_count": 25,
   "metadata": {},
   "outputs": [
    {
     "name": "stdout",
     "output_type": "stream",
     "text": [
      "[0, 1, 0, 0, 2, 1, 2, 2, 2]\n",
      "centroid 0 is [2 1]\n",
      "centroid 1 is [1 0]\n",
      "centroid 2 is [1 7]\n",
      "[[2 1]\n",
      " [1 0]\n",
      " [1 7]]\n"
     ]
    }
   ],
   "source": [
    "centroid=np.array([[2,3],[0,1],[1,4]])\n",
    "X=np.array([[4,1],[2,0],[1,3],[2,1],[4,7],[0,1],[0,9],[1,8],[2,7]])\n",
    "d=[]\n",
    "for x in X:\n",
    "    a=[]\n",
    "    for c in centroid:\n",
    "        dis= np.dot(x-c,x-c)\n",
    "        a.append(dis)\n",
    "    b=np.argmin(a)\n",
    "    d.append(b)\n",
    "print(d)\n",
    "c=np.array(d)\n",
    "for i in range(3):\n",
    "    centroid[i]=X[c==i].mean(axis=0)\n",
    "    print('centroid',i,'is',centroid[i])\n",
    "    \n",
    "print(centroid)"
   ]
  },
  {
   "cell_type": "code",
   "execution_count": 24,
   "metadata": {},
   "outputs": [
    {
     "name": "stdout",
     "output_type": "stream",
     "text": [
      "centroid 0 is [2 1]\n",
      "centroid 1 is [1 0]\n",
      "centroid 2 is [1 7]\n",
      "[[2 1]\n",
      " [1 0]\n",
      " [1 7]]\n"
     ]
    }
   ],
   "source": []
  },
  {
   "cell_type": "code",
   "execution_count": 51,
   "metadata": {},
   "outputs": [
    {
     "data": {
      "text/plain": [
       "3"
      ]
     },
     "execution_count": 51,
     "metadata": {},
     "output_type": "execute_result"
    }
   ],
   "source": [
    "X[c==0][1][1]"
   ]
  },
  {
   "cell_type": "code",
   "execution_count": 33,
   "metadata": {},
   "outputs": [
    {
     "data": {
      "text/plain": [
       "array([[4, 1],\n",
       "       [1, 3],\n",
       "       [2, 1]])"
      ]
     },
     "execution_count": 33,
     "metadata": {},
     "output_type": "execute_result"
    }
   ],
   "source": [
    "X[c==0]"
   ]
  },
  {
   "cell_type": "code",
   "execution_count": 34,
   "metadata": {},
   "outputs": [
    {
     "data": {
      "text/plain": [
       "2.0"
      ]
     },
     "execution_count": 34,
     "metadata": {},
     "output_type": "execute_result"
    }
   ],
   "source": [
    "X[c==0].mean()"
   ]
  },
  {
   "cell_type": "code",
   "execution_count": 54,
   "metadata": {},
   "outputs": [
    {
     "name": "stdout",
     "output_type": "stream",
     "text": [
      "[2.33333333 1.66666667]\n"
     ]
    }
   ],
   "source": [
    "print(X[c==0].mean(axis=0))"
   ]
  },
  {
   "cell_type": "code",
   "execution_count": 55,
   "metadata": {},
   "outputs": [
    {
     "data": {
      "text/plain": [
       "array([1. , 0.5])"
      ]
     },
     "execution_count": 55,
     "metadata": {},
     "output_type": "execute_result"
    }
   ],
   "source": [
    "X[c==1].mean(axis=1)"
   ]
  },
  {
   "cell_type": "code",
   "execution_count": null,
   "metadata": {},
   "outputs": [],
   "source": [
    "\n",
    "\n"
   ]
  },
  {
   "cell_type": "code",
   "execution_count": null,
   "metadata": {},
   "outputs": [],
   "source": []
  },
  {
   "cell_type": "code",
   "execution_count": null,
   "metadata": {},
   "outputs": [],
   "source": []
  },
  {
   "cell_type": "code",
   "execution_count": null,
   "metadata": {},
   "outputs": [],
   "source": []
  },
  {
   "cell_type": "code",
   "execution_count": null,
   "metadata": {},
   "outputs": [],
   "source": []
  },
  {
   "cell_type": "code",
   "execution_count": null,
   "metadata": {},
   "outputs": [],
   "source": [
    "import numpy as np\n",
    "from matplotlib import pyplot as plt\n",
    "%matplotlib inline"
   ]
  },
  {
   "cell_type": "code",
   "execution_count": null,
   "metadata": {},
   "outputs": [],
   "source": [
    "mean1 = np.array([1, 0])\n",
    "cov1 = np.array([[1, 0.1], [0.1, 1.2]])\n",
    "dist1 = np.random.multivariate_normal(mean1, cov1, 10)\n",
    "\n",
    "mean2 = np.array([4, 5])\n",
    "cov2 = np.array([[1, 0.1], [0.1, 1.2]])\n",
    "dist2 = np.random.multivariate_normal(mean2, cov2, 10)"
   ]
  },
  {
   "cell_type": "code",
   "execution_count": null,
   "metadata": {},
   "outputs": [],
   "source": []
  },
  {
   "cell_type": "code",
   "execution_count": null,
   "metadata": {},
   "outputs": [],
   "source": []
  },
  {
   "cell_type": "code",
   "execution_count": null,
   "metadata": {},
   "outputs": [],
   "source": []
  },
  {
   "cell_type": "code",
   "execution_count": null,
   "metadata": {},
   "outputs": [],
   "source": []
  },
  {
   "cell_type": "code",
   "execution_count": null,
   "metadata": {},
   "outputs": [],
   "source": []
  }
 ],
 "metadata": {
  "kernelspec": {
   "display_name": "Python 3",
   "language": "python",
   "name": "python3"
  },
  "language_info": {
   "codemirror_mode": {
    "name": "ipython",
    "version": 3
   },
   "file_extension": ".py",
   "mimetype": "text/x-python",
   "name": "python",
   "nbconvert_exporter": "python",
   "pygments_lexer": "ipython3",
   "version": "3.7.4"
  }
 },
 "nbformat": 4,
 "nbformat_minor": 2
}
